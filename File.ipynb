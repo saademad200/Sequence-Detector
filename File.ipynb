{
 "cells": [
  {
   "cell_type": "code",
   "execution_count": null,
   "metadata": {},
   "outputs": [],
   "source": [
    "\n",
    "import numpy as np\n",
    "import pandas as pd\n",
    "\n",
    "from keras.models import Sequential\n",
    "\n",
    "from keras.layers import Dense,LSTM\n",
    "import sqlite3\n",
    "from sklearn.model_selection import train_test_split\n",
    "\n",
    "from sklearn.preprocessing import LabelBinarizer"
   ]
  },
  {
   "cell_type": "code",
   "execution_count": null,
   "metadata": {},
   "outputs": [],
   "source": [
    "cnx = sqlite3.connect('db.sqlite3')\n",
    "df = pd.read_sql_query(\"SELECT * FROM application_all_data\",cnx)\n",
    "df"
   ]
  },
  {
   "cell_type": "code",
   "execution_count": null,
   "metadata": {},
   "outputs": [],
   "source": [
    "\n",
    "encoder = LabelBinarizer()\n",
    "Color = df['color']\n",
    "dataset = encoder.fit_transform(Color)\n",
    "print(dataset)\n",
    "#dataset = list(dataset)"
   ]
  },
  {
   "cell_type": "code",
   "execution_count": null,
   "metadata": {},
   "outputs": [],
   "source": [
    "#Color = df['color']\n",
    "data = [[dataset[i+j] for i in range(20)] for j in range(25000)]\n",
    "target = [dataset[i+20] for i in range(25000)]\n",
    "Data = np.array(data)\n",
    "Target = np.array(target)\n",
    "\n",
    "x_train,x_test,y_train,y_test = train_test_split(Data,Target,test_size=0.9,random_state = 4)"
   ]
  },
  {
   "cell_type": "code",
   "execution_count": null,
   "metadata": {},
   "outputs": [],
   "source": [
    "model =  Sequential()\n",
    "model.add(LSTM((3),batch_input_shape = (None,20,3),return_sequences = False))\n",
    "\n",
    "#model.add(Activation('softmax'))"
   ]
  },
  {
   "cell_type": "code",
   "execution_count": null,
   "metadata": {},
   "outputs": [],
   "source": [
    "model.compile(optimizer='adam',loss = 'mean_squared_error',metrics=[\"accuracy\"])"
   ]
  },
  {
   "cell_type": "code",
   "execution_count": null,
   "metadata": {},
   "outputs": [],
   "source": [
    "model.summary()"
   ]
  },
  {
   "cell_type": "code",
   "execution_count": null,
   "metadata": {
    "scrolled": true
   },
   "outputs": [],
   "source": [
    "model.fit(x_train,y_train,epochs=10)"
   ]
  },
  {
   "cell_type": "code",
   "execution_count": null,
   "metadata": {},
   "outputs": [],
   "source": [
    "results = model.predict(x_test)\n",
    "\n",
    "results = results.tolist()\n",
    "true = 0\n",
    "false = 0\n",
    "y_test = y_test.tolist()\n",
    "\n",
    "\n",
    "\n",
    "for i in range(len(results)):\n",
    "    ind = results[i].index(max(results[i]))\n",
    "    for j in range(3):\n",
    "        results[i][j] = 0\n",
    "    results[i][ind] = 1\n",
    "        \n",
    "for i in range(len(results)):\n",
    "    if results[i] == y_test[i]:\n",
    "        true+=1\n",
    "    elif results[i] != y_test[i]:\n",
    "        false+=1\n",
    "        \n",
    "        \n",
    "accuracy = true/(true +false)\n",
    "accuracy"
   ]
  },
  {
   "cell_type": "code",
   "execution_count": null,
   "metadata": {},
   "outputs": [],
   "source": [
    "def check(num):\n",
    "    if num in [2,4,6,8,10,11,13,15,17,20,22,24,26,28,29,31,33,35]:\n",
    "        target = 'Black'\n",
    "    elif num in [1,3,5,7,9,12,14,16,18,19,21,23,25,27,30,32,34,36]:\n",
    "        target = 'Red'\n",
    "    elif num == 0:\n",
    "        target = 'Green'\n",
    "        \n",
    "    if target == 'Red':\n",
    "        target_enc = [[0,0,1]]\n",
    "    elif target == 'Black':\n",
    "        target_enc = [[1,0,0]]\n",
    "    elif target == 'Green':\n",
    "        target_enc = [[0,1,0]]\n",
    "    \n",
    "    \n",
    "    prediction = model.predict(np.array([Data[-1]]))\n",
    "    prediction = prediction.tolist()\n",
    "    \n",
    "    ind = prediction[0].index(max(prediction[0]))\n",
    "    for i in range(3):\n",
    "        prediction[0][i] = 0\n",
    "    prediction[0][ind] = 1\n",
    "\n",
    "    if prediction == [[1,0,0]]:\n",
    "        predicted_color = 'Black'\n",
    "    elif prediction == [[0,1,0]]:\n",
    "        predicted_color = 'Green'\n",
    "    elif prediction == [[0,0,1]]:\n",
    "        predicted_color = 'Red'\n",
    "    \n",
    "    iscorrect = (predicted_color ==  target) \n",
    "    print(iscorrect)\n",
    "    return predicted_color\n",
    "        \n",
    "\n",
    "        \n"
   ]
  },
  {
   "cell_type": "code",
   "execution_count": null,
   "metadata": {},
   "outputs": [],
   "source": [
    "import numpy as np\n",
    "import pandas as pd\n",
    "\n",
    "from keras.models import Sequential\n",
    "\n",
    "from keras.layers import Dense,LSTM\n",
    "import sqlite3\n",
    "from sklearn.model_selection import train_test_split\n",
    "\n",
    "from sklearn.preprocessing import LabelBinarizer\n",
    "\n",
    "cnx = sqlite3.connect('db.sqlite3')\n",
    "df = pd.read_sql_query(\"SELECT * FROM application_all_data\",cnx)\n",
    "\n",
    "encoder = LabelBinarizer()\n",
    "Color = df['color']\n",
    "dataset = encoder.fit_transform(Color)\n",
    "\n",
    "data = [[dataset[i+j] for i in range(20)] for j in range(25000)]\n",
    "target = [dataset[i+20] for i in range(25000)]\n",
    "Data = np.array(data)\n",
    "Target = np.array(target)\n",
    "\n",
    "x_train,x_test,y_train,y_test = train_test_split(Data,Target,test_size=0.9,random_state = 4)\n",
    "\n",
    "\n",
    "model =  Sequential()\n",
    "model.add(LSTM((3),batch_input_shape = (None,20,3),return_sequences = False))\n",
    "model.compile(optimizer='adam',loss = 'mean_squared_error',metrics=[\"accuracy\"])\n",
    "model.fit(x_train,y_train,epochs=10)\n",
    "\n",
    "\n",
    "def check(num):\n",
    "    if num in [2,4,6,8,10,11,13,15,17,20,22,24,26,28,29,31,33,35]:\n",
    "        target = 'Black'\n",
    "    elif num in [1,3,5,7,9,12,14,16,18,19,21,23,25,27,30,32,34,36]:\n",
    "        target = 'Red'\n",
    "    elif num == 0:\n",
    "        target = 'Green'\n",
    "        \n",
    "    if target == 'Red':\n",
    "        target_enc = [[0,0,1]]\n",
    "    elif target == 'Black':\n",
    "        target_enc = [[1,0,0]]\n",
    "    elif target == 'Green':\n",
    "        target_enc = [[0,1,0]]\n",
    "    \n",
    "    \n",
    "    prediction = model.predict(np.array([Data[-1]]))\n",
    "    prediction = prediction.tolist()\n",
    "    \n",
    "    ind = prediction[0].index(max(prediction[0]))\n",
    "    for i in range(3):\n",
    "        prediction[0][i] = 0\n",
    "    prediction[0][ind] = 1\n",
    "\n",
    "    if prediction == [[1,0,0]]:\n",
    "        predicted_color = 'Black'\n",
    "    elif prediction == [[0,1,0]]:\n",
    "        predicted_color = 'Green'\n",
    "    elif prediction == [[0,0,1]]:\n",
    "        predicted_color = 'Red'\n",
    "    \n",
    "    iscorrect = (predicted_color ==  target) \n",
    "    print(iscorrect)\n",
    "    return predicted_color\n",
    "        \n",
    "\n",
    "        \n"
   ]
  },
  {
   "cell_type": "code",
   "execution_count": null,
   "metadata": {},
   "outputs": [],
   "source": []
  }
 ],
 "metadata": {
  "kernelspec": {
   "display_name": "Python 3",
   "language": "python",
   "name": "python3"
  },
  "language_info": {
   "codemirror_mode": {
    "name": "ipython",
    "version": 3
   },
   "file_extension": ".py",
   "mimetype": "text/x-python",
   "name": "python",
   "nbconvert_exporter": "python",
   "pygments_lexer": "ipython3",
   "version": "3.8.2"
  }
 },
 "nbformat": 4,
 "nbformat_minor": 4
}
